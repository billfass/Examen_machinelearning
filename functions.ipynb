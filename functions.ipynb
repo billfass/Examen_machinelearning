{
 "cells": [
  {
   "cell_type": "code",
   "execution_count": 1,
   "metadata": {},
   "outputs": [],
   "source": [
    "# import libraries\n",
    "import pandas as pd"
   ]
  },
  {
   "cell_type": "code",
   "execution_count": 2,
   "metadata": {},
   "outputs": [],
   "source": [
    "# Function to load data (5 pts)\n",
    "def load_data(file_path):\n",
    "    # Load data from the CSV file or another format and return data\n",
    "    data = pd.read_excel(file_path)\n",
    "    return data\n",
    "    "
   ]
  },
  {
   "cell_type": "code",
   "execution_count": 3,
   "metadata": {},
   "outputs": [],
   "source": [
    "data = load_data('malaria.xlsx')"
   ]
  },
  {
   "cell_type": "code",
   "execution_count": 4,
   "metadata": {},
   "outputs": [
    {
     "data": {
      "text/html": [
       "<div>\n",
       "<style scoped>\n",
       "    .dataframe tbody tr th:only-of-type {\n",
       "        vertical-align: middle;\n",
       "    }\n",
       "\n",
       "    .dataframe tbody tr th {\n",
       "        vertical-align: top;\n",
       "    }\n",
       "\n",
       "    .dataframe thead th {\n",
       "        text-align: right;\n",
       "    }\n",
       "</style>\n",
       "<table border=\"1\" class=\"dataframe\">\n",
       "  <thead>\n",
       "    <tr style=\"text-align: right;\">\n",
       "      <th></th>\n",
       "      <th>date</th>\n",
       "      <th>Facility</th>\n",
       "      <th>Value</th>\n",
       "    </tr>\n",
       "  </thead>\n",
       "  <tbody>\n",
       "    <tr>\n",
       "      <th>0</th>\n",
       "      <td>2018-04-01</td>\n",
       "      <td>nc Aggeneys Clinic</td>\n",
       "      <td>81.0</td>\n",
       "    </tr>\n",
       "    <tr>\n",
       "      <th>1</th>\n",
       "      <td>2018-04-01</td>\n",
       "      <td>nc Alexander Bay CHC</td>\n",
       "      <td>44.0</td>\n",
       "    </tr>\n",
       "    <tr>\n",
       "      <th>2</th>\n",
       "      <td>2018-04-01</td>\n",
       "      <td>nc Alheit Satellite Clinic</td>\n",
       "      <td>136.0</td>\n",
       "    </tr>\n",
       "    <tr>\n",
       "      <th>3</th>\n",
       "      <td>2018-04-01</td>\n",
       "      <td>nc Askham CHC</td>\n",
       "      <td>127.0</td>\n",
       "    </tr>\n",
       "    <tr>\n",
       "      <th>4</th>\n",
       "      <td>2018-04-01</td>\n",
       "      <td>nc Askham Mobile 1</td>\n",
       "      <td>7.0</td>\n",
       "    </tr>\n",
       "    <tr>\n",
       "      <th>...</th>\n",
       "      <td>...</td>\n",
       "      <td>...</td>\n",
       "      <td>...</td>\n",
       "    </tr>\n",
       "    <tr>\n",
       "      <th>16195</th>\n",
       "      <td>2023-03-01</td>\n",
       "      <td>nc Wegdraai Satellite Clinic</td>\n",
       "      <td>92.0</td>\n",
       "    </tr>\n",
       "    <tr>\n",
       "      <th>16196</th>\n",
       "      <td>2023-03-01</td>\n",
       "      <td>nc Williston CHC</td>\n",
       "      <td>153.0</td>\n",
       "    </tr>\n",
       "    <tr>\n",
       "      <th>16197</th>\n",
       "      <td>2023-03-01</td>\n",
       "      <td>nc Windsorton Clinic</td>\n",
       "      <td>405.0</td>\n",
       "    </tr>\n",
       "    <tr>\n",
       "      <th>16198</th>\n",
       "      <td>2023-03-01</td>\n",
       "      <td>nc Witbank Health Post</td>\n",
       "      <td>5.0</td>\n",
       "    </tr>\n",
       "    <tr>\n",
       "      <th>16199</th>\n",
       "      <td>2023-03-01</td>\n",
       "      <td>nc Wrenchville Clinic</td>\n",
       "      <td>341.0</td>\n",
       "    </tr>\n",
       "  </tbody>\n",
       "</table>\n",
       "<p>16200 rows × 3 columns</p>\n",
       "</div>"
      ],
      "text/plain": [
       "            date                      Facility  Value\n",
       "0     2018-04-01            nc Aggeneys Clinic   81.0\n",
       "1     2018-04-01          nc Alexander Bay CHC   44.0\n",
       "2     2018-04-01    nc Alheit Satellite Clinic  136.0\n",
       "3     2018-04-01                 nc Askham CHC  127.0\n",
       "4     2018-04-01            nc Askham Mobile 1    7.0\n",
       "...          ...                           ...    ...\n",
       "16195 2023-03-01  nc Wegdraai Satellite Clinic   92.0\n",
       "16196 2023-03-01              nc Williston CHC  153.0\n",
       "16197 2023-03-01          nc Windsorton Clinic  405.0\n",
       "16198 2023-03-01        nc Witbank Health Post    5.0\n",
       "16199 2023-03-01         nc Wrenchville Clinic  341.0\n",
       "\n",
       "[16200 rows x 3 columns]"
      ]
     },
     "execution_count": 4,
     "metadata": {},
     "output_type": "execute_result"
    }
   ],
   "source": [
    "data"
   ]
  },
  {
   "cell_type": "code",
   "execution_count": null,
   "metadata": {},
   "outputs": [],
   "source": [
    "def preprocess_data(file_path):\n",
    "    # Handle missing data using appropriate imputation\n",
    "    # Deal with outlier data \n",
    "    # return data\n",
    "    # Read the data from the input file into a DataFrame\n",
    "    data = load_data(file_path)\n",
    "\n",
    "    # Drop any rows with missing values\n",
    "    data.dropna(inplace=True)\n",
    "\n",
    "    # Convert the 'date' column to a datetime object\n",
    "    data['date'] = pd.to_datetime(data['date'])\n",
    "\n",
    "    # Encode categorical variables (Facility) using one-hot encoding\n",
    "    data = pd.get_dummies(data, columns=['Facility'], drop_first=True)\n",
    "\n",
    "    # You might want to perform additional preprocessing steps here,\n",
    "    # such as feature scaling, feature selection, or data splitting.\n",
    "\n",
    "    return data"
   ]
  },
  {
   "cell_type": "code",
   "execution_count": null,
   "metadata": {},
   "outputs": [],
   "source": [
    "# Example usage:\n",
    "preprocessed_data = preprocess_data(input_file)\n"
   ]
  }
 ],
 "metadata": {
  "kernelspec": {
   "display_name": "Python 3",
   "language": "python",
   "name": "python3"
  },
  "language_info": {
   "codemirror_mode": {
    "name": "ipython",
    "version": 3
   },
   "file_extension": ".py",
   "mimetype": "text/x-python",
   "name": "python",
   "nbconvert_exporter": "python",
   "pygments_lexer": "ipython3",
   "version": "3.11.4"
  },
  "orig_nbformat": 4
 },
 "nbformat": 4,
 "nbformat_minor": 2
}
